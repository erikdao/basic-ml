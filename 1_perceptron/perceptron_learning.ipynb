{
 "cells": [
  {
   "cell_type": "markdown",
   "id": "young-memphis",
   "metadata": {},
   "source": [
    "# Perceptron learning"
   ]
  },
  {
   "cell_type": "code",
   "execution_count": 1,
   "id": "wound-mattress",
   "metadata": {},
   "outputs": [],
   "source": [
    "import numpy as np"
   ]
  },
  {
   "cell_type": "markdown",
   "id": "postal-yemen",
   "metadata": {},
   "source": [
    "## 1. Perceptron"
   ]
  },
  {
   "cell_type": "code",
   "execution_count": 2,
   "id": "commercial-burke",
   "metadata": {},
   "outputs": [],
   "source": [
    "def perceptron(inputs, weights, theta=0.):\n",
    "    activations = np.dot(inputs, weights)\n",
    "    \n",
    "    return np.where(activations > theta, 1, 0)"
   ]
  },
  {
   "cell_type": "code",
   "execution_count": 3,
   "id": "divided-semester",
   "metadata": {},
   "outputs": [],
   "source": [
    "def perceptron_train(inputs, targets, eta=0.25, n_iter=10):\n",
    "    \"\"\"Simple algorithm to train a perceptron\"\"\"\n",
    "\n",
    "    N = np.shape(inputs)[0]  # number of data points\n",
    "    n_in = np.shape(inputs)[1]  # input dimension\n",
    "    n_out = np.shape(targets)[1]  # output dimension\n",
    "    \n",
    "    # Add one more columns to the inputs for bias\n",
    "    inputs = np.concatenate((inputs,-np.ones((N,1))),axis=1)\n",
    "    # Initialize the weights\n",
    "    weights = np.random.rand(n_in + 1, n_out) * 0.1 - 0.05\n",
    "        \n",
    "    # Run the training loop\n",
    "    for i in range(n_iter):\n",
    "        # forward the inputs\n",
    "        activations = perceptron(inputs, weights)\n",
    "        # update the weights\n",
    "        weights = weights - eta * np.dot(np.transpose(inputs), activations - targets)\n",
    "    \n",
    "    return weights"
   ]
  },
  {
   "cell_type": "markdown",
   "id": "cosmetic-energy",
   "metadata": {},
   "source": [
    "Test the program"
   ]
  },
  {
   "cell_type": "code",
   "execution_count": 4,
   "id": "atlantic-mercury",
   "metadata": {},
   "outputs": [],
   "source": [
    "inputs = np.array([[0, 0], [0, 1], [1, 0], [1, 1]])\n",
    "targets = np.array([[0], [1], [1], [1]])"
   ]
  },
  {
   "cell_type": "markdown",
   "id": "mobile-tennis",
   "metadata": {},
   "source": [
    "Invoke the training to get the weights of the model"
   ]
  },
  {
   "cell_type": "code",
   "execution_count": 5,
   "id": "contemporary-grounds",
   "metadata": {},
   "outputs": [
    {
     "data": {
      "text/plain": [
       "array([[0.5136898 ],\n",
       "       [0.47501002],\n",
       "       [0.22467138]])"
      ]
     },
     "execution_count": 5,
     "metadata": {},
     "output_type": "execute_result"
    }
   ],
   "source": [
    "W = perceptron_train(inputs, targets, eta=0.25, n_iter=10)\n",
    "W"
   ]
  },
  {
   "cell_type": "markdown",
   "id": "juvenile-accommodation",
   "metadata": {},
   "source": [
    "**Test with the training data to see we get the correct targets**"
   ]
  },
  {
   "cell_type": "code",
   "execution_count": 6,
   "id": "square-indicator",
   "metadata": {},
   "outputs": [
    {
     "data": {
      "text/plain": [
       "array([[0],\n",
       "       [1],\n",
       "       [1],\n",
       "       [1]])"
      ]
     },
     "execution_count": 6,
     "metadata": {},
     "output_type": "execute_result"
    }
   ],
   "source": [
    "# Add the input that match the bias node\n",
    "input_bias = np.concatenate((inputs, -np.ones((np.shape(inputs)[0], 1))), axis=1)\n",
    "perceptron(input_bias, W)"
   ]
  }
 ],
 "metadata": {
  "kernelspec": {
   "display_name": "Python 3",
   "language": "python",
   "name": "python3"
  },
  "language_info": {
   "codemirror_mode": {
    "name": "ipython",
    "version": 3
   },
   "file_extension": ".py",
   "mimetype": "text/x-python",
   "name": "python",
   "nbconvert_exporter": "python",
   "pygments_lexer": "ipython3",
   "version": "3.8.5"
  }
 },
 "nbformat": 4,
 "nbformat_minor": 5
}
