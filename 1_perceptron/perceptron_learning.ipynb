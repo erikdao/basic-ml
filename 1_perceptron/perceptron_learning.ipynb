{
 "cells": [
  {
   "cell_type": "markdown",
   "id": "portuguese-ballot",
   "metadata": {},
   "source": [
    "# Perceptron learning"
   ]
  },
  {
   "cell_type": "code",
   "execution_count": 1,
   "id": "purple-liquid",
   "metadata": {},
   "outputs": [],
   "source": [
    "import numpy as np\n",
    "import matplotlib.pyplot as plt\n",
    "import seaborn as sns\n",
    "\n",
    "np.random.seed(2021)\n",
    "\n",
    "%matplotlib inline"
   ]
  },
  {
   "cell_type": "markdown",
   "id": "upper-broad",
   "metadata": {},
   "source": [
    "## 1. Perceptron"
   ]
  },
  {
   "cell_type": "code",
   "execution_count": 2,
   "id": "exceptional-sharp",
   "metadata": {},
   "outputs": [],
   "source": [
    "def perceptron(inputs, weights, theta=0.):\n",
    "    \"\"\"Simple forward to a perceptron\"\"\"\n",
    "    activations = np.dot(inputs, weights)\n",
    "    \n",
    "    return np.where(activations > theta, 1, 0)"
   ]
  },
  {
   "cell_type": "code",
   "execution_count": 3,
   "id": "sweet-average",
   "metadata": {},
   "outputs": [],
   "source": [
    "def perceptron_train(inputs, targets, eta=0.25, n_iter=10):\n",
    "    \"\"\"Simple algorithm to train a perceptron\"\"\"\n",
    "\n",
    "    N = np.shape(inputs)[0]  # number of data points\n",
    "    n_in = np.shape(inputs)[1]  # input dimension\n",
    "    n_out = np.shape(targets)[1]  # output dimension\n",
    "    \n",
    "    # Add one more columns to the inputs for bias\n",
    "    inputs = np.concatenate((inputs,-np.ones((N,1))),axis=1)\n",
    "    # Initialize the weights\n",
    "    weights = np.random.rand(n_in + 1, n_out) * 0.1 - 0.05\n",
    "        \n",
    "    # Run the training loop\n",
    "    for i in range(n_iter):\n",
    "        # forward the inputs\n",
    "        activations = perceptron(inputs, weights)\n",
    "        print(f'Iter {i}', activations)\n",
    "        # update the weights\n",
    "        weights = weights - eta * np.dot(np.transpose(inputs), activations - targets)\n",
    "    \n",
    "    return weights"
   ]
  },
  {
   "cell_type": "markdown",
   "id": "facial-pepper",
   "metadata": {},
   "source": [
    "Test the program with some artificial data"
   ]
  },
  {
   "cell_type": "code",
   "execution_count": 4,
   "id": "seven-pension",
   "metadata": {},
   "outputs": [],
   "source": [
    "inputs = np.array([[0, 0], [0, 1], [1, 0], [1, 1]])\n",
    "targets = np.array([[0], [1], [1], [1]])"
   ]
  },
  {
   "cell_type": "markdown",
   "id": "powered-activation",
   "metadata": {},
   "source": [
    "Invoke the training to get the weights of the model"
   ]
  },
  {
   "cell_type": "code",
   "execution_count": 5,
   "id": "arranged-nirvana",
   "metadata": {},
   "outputs": [
    {
     "name": "stdout",
     "output_type": "stream",
     "text": [
      "Iter 0 [[1]\n",
      " [1]\n",
      " [1]\n",
      " [1]]\n",
      "Iter 1 [[0]\n",
      " [0]\n",
      " [0]\n",
      " [0]]\n",
      "Iter 2 [[1]\n",
      " [1]\n",
      " [1]\n",
      " [1]]\n",
      "Iter 3 [[1]\n",
      " [1]\n",
      " [1]\n",
      " [1]]\n",
      "Iter 4 [[1]\n",
      " [1]\n",
      " [1]\n",
      " [1]]\n",
      "Iter 5 [[0]\n",
      " [1]\n",
      " [1]\n",
      " [1]]\n"
     ]
    },
    {
     "data": {
      "text/plain": [
       "array([[0.21059783],\n",
       "       [0.22333694],\n",
       "       [0.06389472]])"
      ]
     },
     "execution_count": 5,
     "metadata": {},
     "output_type": "execute_result"
    }
   ],
   "source": [
    "W = perceptron_train(inputs, targets, eta=0.1, n_iter=6)\n",
    "W"
   ]
  },
  {
   "cell_type": "markdown",
   "id": "color-album",
   "metadata": {},
   "source": [
    "**Test with the training data to see we get the correct targets**"
   ]
  },
  {
   "cell_type": "code",
   "execution_count": 6,
   "id": "current-success",
   "metadata": {},
   "outputs": [
    {
     "data": {
      "text/plain": [
       "array([[0],\n",
       "       [1],\n",
       "       [1],\n",
       "       [1]])"
      ]
     },
     "execution_count": 6,
     "metadata": {},
     "output_type": "execute_result"
    }
   ],
   "source": [
    "# Add the input that match the bias node\n",
    "input_bias = np.concatenate((inputs, -np.ones((np.shape(inputs)[0], 1))), axis=1)\n",
    "perceptron(input_bias, W)"
   ]
  },
  {
   "cell_type": "markdown",
   "id": "prerequisite-turkey",
   "metadata": {},
   "source": [
    "Visualize the **decision boundary** learn by the perceptron from those data"
   ]
  },
  {
   "cell_type": "code",
   "execution_count": 27,
   "id": "exceptional-cornell",
   "metadata": {},
   "outputs": [
    {
     "data": {
      "image/png": "[encoded data removed]",
      "text/plain": [
       "<Figure size 360x360 with 1 Axes>"
      ]
     },
     "metadata": {
      "needs_background": "light"
     },
     "output_type": "display_data"
    }
   ],
   "source": [
    "fig, ax = plt.subplots(1, 1, figsize=(5, 5))\n",
    "ax.set_xlim(-0.5, 1.5)\n",
    "ax.set_ylim(-0.5, 1.5)\n",
    "\n",
    "# Plot the axis\n",
    "plt.arrow(0, 0, 0, 1.3, head_width=0.05, head_length=0.05, fc='black')\n",
    "plt.arrow(0, 0, 1.3, 0, head_width=0.05, head_length=0.05, fc='black')\n",
    "\n",
    "for idx, x in enumerate(inputs):\n",
    "    color = 'b' if targets[idx][0] == 1 else 'r'\n",
    "    plt.scatter(x=x[0], y=x[1], s=100, c=color)\n",
    "    ax.annotate(f'{x[0], x[1]}', (x[0], x[1]), xytext=(x[0]+0.05, x[1]+0.05))\n",
    "\n",
    "# helper function\n",
    "def get_x2(x1):\n",
    "    return -(W[0]*x1 - W[2]) / W[1]\n",
    "\n",
    "p1 = (-0.25, get_x2(-0.25))\n",
    "p2 = (0.5, get_x2(0.5))\n",
    "ax.plot([p1[0], p2[0]], [p1[1], p2[1]], '-', c='g', linewidth=2)\n",
    "ax.axis('off')\n",
    "plt.show();"
   ]
  }
 ],
 "metadata": {
  "kernelspec": {
   "display_name": "Python 3",
   "language": "python",
   "name": "python3"
  },
  "language_info": {
   "codemirror_mode": {
    "name": "ipython",
    "version": 3
   },
   "file_extension": ".py",
   "mimetype": "text/x-python",
   "name": "python",
   "nbconvert_exporter": "python",
   "pygments_lexer": "ipython3",
   "version": "3.8.5"
  }
 },
 "nbformat": 4,
 "nbformat_minor": 5
}
